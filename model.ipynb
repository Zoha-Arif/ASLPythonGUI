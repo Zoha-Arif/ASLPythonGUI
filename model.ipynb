{
 "cells": [
  {
   "cell_type": "code",
   "execution_count": 1,
   "metadata": {},
   "outputs": [
    {
     "name": "stderr",
     "output_type": "stream",
     "text": [
      "Using TensorFlow backend.\n"
     ]
    }
   ],
   "source": [
    "import numpy as np\n",
    "from keras.layers import Conv2D, Dense, Flatten, Dropout, MaxPooling2D\n",
    "from keras.models import Sequential, save_model\n",
    "from keras.utils import np_utils\n",
    "from keras.callbacks import ModelCheckpoint\n",
    "from sklearn.model_selection import train_test_split\n",
    "from sklearn.utils import shuffle\n",
    "import os\n",
    "import cv2"
   ]
  },
  {
   "cell_type": "code",
   "execution_count": 2,
   "metadata": {},
   "outputs": [],
   "source": [
    "path = '/Sign_Language_Recognition/preprocessed_new/'"
   ]
  },
  {
   "cell_type": "code",
   "execution_count": 3,
   "metadata": {},
   "outputs": [],
   "source": [
    "gestures = os.listdir(path)"
   ]
  },
  {
   "cell_type": "code",
   "execution_count": 4,
   "metadata": {},
   "outputs": [],
   "source": [
    "dict_labels = {\n",
    "    'A': 1,\n",
    "    'B': 2,\n",
    "    'C':3,\n",
    "    'D':4,\n",
    "    'E':5,\n",
    "    'F':6,\n",
    "    'G':7,\n",
    "    'H':8,\n",
    "    'I':9,\n",
    "    'K':10,\n",
    "    'L':11,\n",
    "    'M':12,\n",
    "    'N':13,\n",
    "    'O':14,\n",
    "    'P':15,\n",
    "    'Q':16,\n",
    "    'R':17,\n",
    "    'S':18,\n",
    "    'T':19,\n",
    "    'U':20,\n",
    "    'V':21,\n",
    "    'W':22,\n",
    "    'X':23,\n",
    "    'Y':24,\n",
    "    \n",
    "}"
   ]
  },
  {
   "cell_type": "code",
   "execution_count": 5,
   "metadata": {},
   "outputs": [
    {
     "name": "stdout",
     "output_type": "stream",
     "text": [
      "['A', 'B', 'C', 'D', 'E', 'F', 'G', 'H', 'I', 'K', 'L', 'M', 'N', 'O', 'P', 'Q', 'R', 'S', 'T', 'U', 'V', 'W', 'X', 'Y']\n"
     ]
    }
   ],
   "source": [
    "print(list(dict_labels.keys()))"
   ]
  },
  {
   "cell_type": "code",
   "execution_count": 6,
   "metadata": {},
   "outputs": [],
   "source": [
    "x, y = [], []\n",
    "for ix in gestures:\n",
    "    images = os.listdir(path + ix)\n",
    "    for cx in images:\n",
    "        img_path = path + ix + '/' + cx\n",
    "        img = cv2.imread(img_path, 0)\n",
    "        img = img.reshape((50,50,1))\n",
    "        img = img/255.0\n",
    "        x.append(img)\n",
    "        y.append(dict_labels[ix])"
   ]
  },
  {
   "cell_type": "code",
   "execution_count": 7,
   "metadata": {},
   "outputs": [
    {
     "data": {
      "text/plain": [
       "(28800, 25)"
      ]
     },
     "execution_count": 7,
     "metadata": {},
     "output_type": "execute_result"
    }
   ],
   "source": [
    "X = np.array(x)\n",
    "Y = np.array(y)\n",
    "Y = np_utils.to_categorical(Y)\n",
    "Y.shape"
   ]
  },
  {
   "cell_type": "code",
   "execution_count": 29,
   "metadata": {},
   "outputs": [],
   "source": [
    "import seaborn as sns\n",
    "import matplotlib.pyplot as plt"
   ]
  },
  {
   "cell_type": "code",
   "execution_count": 30,
   "metadata": {},
   "outputs": [
    {
     "data": {
      "text/plain": [
       "<matplotlib.axes._subplots.AxesSubplot at 0x164bd447278>"
      ]
     },
     "execution_count": 30,
     "metadata": {},
     "output_type": "execute_result"
    },
    {
     "data": {
      "image/png": "[encoded data removed]",
      "text/plain": [
       "<Figure size 1296x576 with 1 Axes>"
      ]
     },
     "metadata": {
      "needs_background": "light"
     },
     "output_type": "display_data"
    }
   ],
   "source": [
    "plt.figure(figsize = (18,8))\n",
    "sns.countplot(x=list(dict_labels.keys()))"
   ]
  },
  {
   "cell_type": "code",
   "execution_count": 33,
   "metadata": {},
   "outputs": [
    {
     "data": {
      "text/plain": [
       "(28800, 25)"
      ]
     },
     "execution_count": 33,
     "metadata": {},
     "output_type": "execute_result"
    }
   ],
   "source": [
    "Y.shape"
   ]
  },
  {
   "cell_type": "code",
   "execution_count": 34,
   "metadata": {},
   "outputs": [],
   "source": [
    "categories = Y.shape[1]"
   ]
  },
  {
   "cell_type": "code",
   "execution_count": 35,
   "metadata": {},
   "outputs": [],
   "source": [
    "X, Y = shuffle(X, Y, random_state=0)"
   ]
  },
  {
   "cell_type": "code",
   "execution_count": 36,
   "metadata": {},
   "outputs": [
    {
     "data": {
      "text/plain": [
       "(28800, 50, 50, 1)"
      ]
     },
     "execution_count": 36,
     "metadata": {},
     "output_type": "execute_result"
    }
   ],
   "source": [
    "X.shape"
   ]
  },
  {
   "cell_type": "code",
   "execution_count": 95,
   "metadata": {},
   "outputs": [],
   "source": [
    "X_train, X_test, Y_train, Y_test = train_test_split(X, Y, test_size=0.3)"
   ]
  },
  {
   "cell_type": "code",
   "execution_count": 96,
   "metadata": {},
   "outputs": [
    {
     "name": "stdout",
     "output_type": "stream",
     "text": [
      "(20160, 50, 50, 1) (8640, 50, 50, 1)\n",
      "(20160, 25) (8640, 25)\n"
     ]
    }
   ],
   "source": [
    "print(X_train.shape, X_test.shape)\n",
    "print(Y_train.shape, Y_test.shape)"
   ]
  },
  {
   "cell_type": "code",
   "execution_count": 97,
   "metadata": {},
   "outputs": [
    {
     "name": "stdout",
     "output_type": "stream",
     "text": [
      "_________________________________________________________________\n",
      "Layer (type)                 Output Shape              Param #   \n",
      "=================================================================\n",
      "conv2d_13 (Conv2D)           (None, 48, 48, 64)        640       \n",
      "_________________________________________________________________\n",
      "max_pooling2d_11 (MaxPooling (None, 24, 24, 64)        0         \n",
      "_________________________________________________________________\n",
      "conv2d_14 (Conv2D)           (None, 22, 22, 64)        36928     \n",
      "_________________________________________________________________\n",
      "max_pooling2d_12 (MaxPooling (None, 11, 11, 64)        0         \n",
      "_________________________________________________________________\n",
      "conv2d_15 (Conv2D)           (None, 9, 9, 64)          36928     \n",
      "_________________________________________________________________\n",
      "max_pooling2d_13 (MaxPooling (None, 4, 4, 64)          0         \n",
      "_________________________________________________________________\n",
      "flatten_5 (Flatten)          (None, 1024)              0         \n",
      "_________________________________________________________________\n",
      "dense_8 (Dense)              (None, 128)               131200    \n",
      "_________________________________________________________________\n",
      "dropout_5 (Dropout)          (None, 128)               0         \n",
      "_________________________________________________________________\n",
      "dense_9 (Dense)              (None, 25)                3225      \n",
      "=================================================================\n",
      "Total params: 208,921\n",
      "Trainable params: 208,921\n",
      "Non-trainable params: 0\n",
      "_________________________________________________________________\n"
     ]
    }
   ],
   "source": [
    "model = Sequential()\n",
    "model.add(Conv2D(64, kernel_size=(3,3), activation = 'relu', input_shape=(50,50 ,1) ))\n",
    "model.add(MaxPooling2D(pool_size = (2, 2)))\n",
    "\n",
    "model.add(Conv2D(64, kernel_size = (3, 3), activation = 'relu'))\n",
    "model.add(MaxPooling2D(pool_size = (2, 2)))\n",
    "\n",
    "model.add(Conv2D(64, kernel_size = (3, 3), activation = 'relu'))\n",
    "model.add(MaxPooling2D(pool_size = (2, 2)))\n",
    "\n",
    "model.add(Flatten())\n",
    "model.add(Dense(128, activation = 'relu'))\n",
    "model.add(Dropout(0.20))\n",
    "model.add(Dense(categories, activation = 'softmax'))\n",
    "\n",
    "model.summary()"
   ]
  },
  {
   "cell_type": "code",
   "execution_count": 98,
   "metadata": {},
   "outputs": [],
   "source": [
    "model.compile(optimizer='Adam', metrics=['accuracy'], loss='categorical_crossentropy')"
   ]
  },
  {
   "cell_type": "code",
   "execution_count": 99,
   "metadata": {},
   "outputs": [
    {
     "name": "stdout",
     "output_type": "stream",
     "text": [
      "Train on 20160 samples, validate on 8640 samples\n",
      "Epoch 1/50\n",
      "20160/20160 [==============================] - 28s 1ms/step - loss: 0.7853 - acc: 0.7698 - val_loss: 0.1140 - val_acc: 0.9664\n",
      "Epoch 2/50\n",
      "20160/20160 [==============================] - 26s 1ms/step - loss: 0.1139 - acc: 0.9658 - val_loss: 0.0481 - val_acc: 0.9873\n",
      "Epoch 3/50\n",
      "20160/20160 [==============================] - 27s 1ms/step - loss: 0.0671 - acc: 0.9788 - val_loss: 0.0381 - val_acc: 0.9891\n",
      "Epoch 4/50\n",
      "20160/20160 [==============================] - 27s 1ms/step - loss: 0.0467 - acc: 0.9854 - val_loss: 0.0245 - val_acc: 0.9936\n",
      "Epoch 5/50\n",
      "20160/20160 [==============================] - 27s 1ms/step - loss: 0.0292 - acc: 0.9911 - val_loss: 0.0291 - val_acc: 0.9926\n",
      "Epoch 6/50\n",
      "20160/20160 [==============================] - 27s 1ms/step - loss: 0.0291 - acc: 0.9910 - val_loss: 0.0155 - val_acc: 0.9953\n",
      "Epoch 7/50\n",
      "20160/20160 [==============================] - 27s 1ms/step - loss: 0.0248 - acc: 0.9919 - val_loss: 0.0130 - val_acc: 0.9957\n",
      "Epoch 8/50\n",
      "20160/20160 [==============================] - 27s 1ms/step - loss: 0.0231 - acc: 0.9920 - val_loss: 0.0138 - val_acc: 0.9962\n",
      "Epoch 9/50\n",
      "20160/20160 [==============================] - 27s 1ms/step - loss: 0.0149 - acc: 0.9951 - val_loss: 0.0116 - val_acc: 0.9966\n",
      "Epoch 10/50\n",
      "20160/20160 [==============================] - 28s 1ms/step - loss: 0.0160 - acc: 0.9942 - val_loss: 0.0140 - val_acc: 0.9961\n",
      "Epoch 11/50\n",
      "20160/20160 [==============================] - 28s 1ms/step - loss: 0.0122 - acc: 0.9959 - val_loss: 0.0118 - val_acc: 0.9968\n",
      "Epoch 12/50\n",
      "20160/20160 [==============================] - 27s 1ms/step - loss: 0.0116 - acc: 0.9962 - val_loss: 0.0121 - val_acc: 0.9966\n",
      "Epoch 13/50\n",
      "20160/20160 [==============================] - 27s 1ms/step - loss: 0.0105 - acc: 0.9965 - val_loss: 0.0109 - val_acc: 0.9970\n",
      "Epoch 14/50\n",
      "20160/20160 [==============================] - 27s 1ms/step - loss: 0.0095 - acc: 0.9966 - val_loss: 0.0110 - val_acc: 0.9968\n",
      "Epoch 15/50\n",
      "20160/20160 [==============================] - 26s 1ms/step - loss: 0.0108 - acc: 0.9959 - val_loss: 0.0132 - val_acc: 0.9962\n",
      "Epoch 16/50\n",
      "20160/20160 [==============================] - 26s 1ms/step - loss: 0.0103 - acc: 0.9967 - val_loss: 0.0067 - val_acc: 0.9980\n",
      "Epoch 17/50\n",
      "20160/20160 [==============================] - 27s 1ms/step - loss: 0.0087 - acc: 0.9975 - val_loss: 0.0086 - val_acc: 0.9971\n",
      "Epoch 18/50\n",
      "20160/20160 [==============================] - 26s 1ms/step - loss: 0.0053 - acc: 0.9981 - val_loss: 0.0100 - val_acc: 0.9976\n",
      "Epoch 19/50\n",
      "20160/20160 [==============================] - 27s 1ms/step - loss: 0.0066 - acc: 0.9978 - val_loss: 0.0061 - val_acc: 0.9983\n",
      "Epoch 20/50\n",
      "20160/20160 [==============================] - 26s 1ms/step - loss: 0.0092 - acc: 0.9966 - val_loss: 0.0106 - val_acc: 0.9966\n",
      "Epoch 21/50\n",
      "20160/20160 [==============================] - 27s 1ms/step - loss: 0.0073 - acc: 0.9977 - val_loss: 0.0149 - val_acc: 0.9957\n",
      "Epoch 22/50\n",
      "20160/20160 [==============================] - 27s 1ms/step - loss: 0.0062 - acc: 0.9982 - val_loss: 0.0087 - val_acc: 0.9977\n",
      "Epoch 23/50\n",
      "20160/20160 [==============================] - 27s 1ms/step - loss: 0.0032 - acc: 0.9989 - val_loss: 0.0074 - val_acc: 0.9977\n",
      "Epoch 24/50\n",
      "20160/20160 [==============================] - 27s 1ms/step - loss: 0.0059 - acc: 0.9980 - val_loss: 0.0087 - val_acc: 0.9969\n",
      "Epoch 25/50\n",
      "20160/20160 [==============================] - 27s 1ms/step - loss: 0.0087 - acc: 0.9971 - val_loss: 0.0134 - val_acc: 0.9963\n",
      "Epoch 26/50\n",
      "20160/20160 [==============================] - 27s 1ms/step - loss: 0.0065 - acc: 0.9981 - val_loss: 0.0090 - val_acc: 0.9972\n",
      "Epoch 27/50\n",
      "20160/20160 [==============================] - 26s 1ms/step - loss: 0.0030 - acc: 0.9988 - val_loss: 0.0139 - val_acc: 0.9968\n",
      "Epoch 28/50\n",
      "20160/20160 [==============================] - 27s 1ms/step - loss: 0.0075 - acc: 0.9976 - val_loss: 0.0086 - val_acc: 0.9976\n",
      "Epoch 29/50\n",
      "20160/20160 [==============================] - 27s 1ms/step - loss: 0.0042 - acc: 0.9986 - val_loss: 0.0090 - val_acc: 0.9978\n",
      "Epoch 30/50\n",
      "20160/20160 [==============================] - 27s 1ms/step - loss: 0.0049 - acc: 0.9984 - val_loss: 0.0184 - val_acc: 0.9959\n",
      "Epoch 31/50\n",
      "20160/20160 [==============================] - 26s 1ms/step - loss: 0.0089 - acc: 0.9970 - val_loss: 0.0061 - val_acc: 0.9983\n",
      "Epoch 32/50\n",
      "20160/20160 [==============================] - 26s 1ms/step - loss: 0.0027 - acc: 0.9992 - val_loss: 0.0058 - val_acc: 0.9981\n",
      "Epoch 33/50\n",
      "20160/20160 [==============================] - 27s 1ms/step - loss: 0.0026 - acc: 0.9991 - val_loss: 0.0090 - val_acc: 0.9976\n",
      "Epoch 34/50\n",
      "20160/20160 [==============================] - 26s 1ms/step - loss: 0.0029 - acc: 0.9990 - val_loss: 0.0107 - val_acc: 0.9976\n",
      "Epoch 35/50\n",
      "20160/20160 [==============================] - 27s 1ms/step - loss: 0.0048 - acc: 0.9985 - val_loss: 0.0102 - val_acc: 0.9973\n",
      "Epoch 36/50\n",
      "20160/20160 [==============================] - 26s 1ms/step - loss: 0.0029 - acc: 0.9990 - val_loss: 0.0096 - val_acc: 0.9980\n",
      "Epoch 37/50\n",
      "20160/20160 [==============================] - 26s 1ms/step - loss: 0.0043 - acc: 0.9986 - val_loss: 0.0061 - val_acc: 0.9987\n",
      "Epoch 38/50\n",
      "20160/20160 [==============================] - 26s 1ms/step - loss: 0.0018 - acc: 0.9995 - val_loss: 0.0062 - val_acc: 0.9986\n",
      "Epoch 39/50\n",
      "20160/20160 [==============================] - 27s 1ms/step - loss: 0.0024 - acc: 0.9992 - val_loss: 0.0059 - val_acc: 0.9986\n",
      "Epoch 40/50\n",
      "20160/20160 [==============================] - 27s 1ms/step - loss: 0.0055 - acc: 0.9981 - val_loss: 0.0073 - val_acc: 0.9973\n",
      "Epoch 41/50\n",
      "20160/20160 [==============================] - 28s 1ms/step - loss: 0.0055 - acc: 0.9980 - val_loss: 0.0113 - val_acc: 0.9971\n",
      "Epoch 42/50\n",
      "20160/20160 [==============================] - 27s 1ms/step - loss: 0.0021 - acc: 0.9995 - val_loss: 0.0073 - val_acc: 0.9983\n",
      "Epoch 43/50\n",
      "20160/20160 [==============================] - 27s 1ms/step - loss: 0.0066 - acc: 0.9977 - val_loss: 0.0139 - val_acc: 0.9970\n",
      "Epoch 44/50\n",
      "20160/20160 [==============================] - 27s 1ms/step - loss: 0.0031 - acc: 0.9989 - val_loss: 0.0096 - val_acc: 0.9980\n",
      "Epoch 45/50\n",
      "20160/20160 [==============================] - 27s 1ms/step - loss: 0.0024 - acc: 0.9990 - val_loss: 0.0111 - val_acc: 0.9980\n",
      "Epoch 46/50\n",
      "20160/20160 [==============================] - 27s 1ms/step - loss: 0.0029 - acc: 0.9991 - val_loss: 0.0052 - val_acc: 0.9986\n",
      "Epoch 47/50\n",
      "20160/20160 [==============================] - 27s 1ms/step - loss: 0.0034 - acc: 0.9988 - val_loss: 0.0268 - val_acc: 0.9921\n",
      "Epoch 48/50\n",
      "20160/20160 [==============================] - 27s 1ms/step - loss: 0.0055 - acc: 0.9978 - val_loss: 0.0141 - val_acc: 0.9971\n",
      "Epoch 49/50\n",
      "20160/20160 [==============================] - 26s 1ms/step - loss: 0.0030 - acc: 0.9993 - val_loss: 0.0124 - val_acc: 0.9972\n",
      "Epoch 50/50\n",
      "20160/20160 [==============================] - 27s 1ms/step - loss: 0.0024 - acc: 0.9991 - val_loss: 0.0064 - val_acc: 0.9983\n"
     ]
    }
   ],
   "source": [
    "history = model.fit(X_train, Y_train, batch_size=128, epochs=50, validation_data=[X_test, Y_test])"
   ]
  },
  {
   "cell_type": "code",
   "execution_count": 100,
   "metadata": {},
   "outputs": [],
   "source": [
    "import matplotlib.pyplot as plt\n",
    "%matplotlib inline"
   ]
  },
  {
   "cell_type": "code",
   "execution_count": 101,
   "metadata": {},
   "outputs": [
    {
     "data": {
      "image/png": "[encoded data removed]",
      "text/plain": [
       "<Figure size 432x288 with 1 Axes>"
      ]
     },
     "metadata": {
      "needs_background": "light"
     },
     "output_type": "display_data"
    }
   ],
   "source": [
    "plt.plot(history.history['acc'])\n",
    "plt.plot(history.history['val_acc'])\n",
    "plt.title(\"Accuracy\")\n",
    "plt.xlabel('epoch')\n",
    "plt.ylabel('accuracy')\n",
    "plt.legend(['train','test'])\n",
    "plt.show()"
   ]
  },
  {
   "cell_type": "code",
   "execution_count": 102,
   "metadata": {},
   "outputs": [],
   "source": [
    "model.save('./new_model6.h5')"
   ]
  },
  {
   "cell_type": "code",
   "execution_count": 31,
   "metadata": {},
   "outputs": [],
   "source": [
    "from keras.models import load_model\n"
   ]
  },
  {
   "cell_type": "code",
   "execution_count": 32,
   "metadata": {},
   "outputs": [],
   "source": [
    "m = load_model('./new_model6.h5')"
   ]
  },
  {
   "cell_type": "code",
   "execution_count": 33,
   "metadata": {},
   "outputs": [],
   "source": [
    "test_data = os.listdir('./test_data/')"
   ]
  },
  {
   "cell_type": "code",
   "execution_count": 34,
   "metadata": {},
   "outputs": [],
   "source": [
    "x, y = [], []\n",
    "for ix in test_data:\n",
    "    images = os.listdir('./test_data/' + ix)\n",
    "    for cx in range(1,201):\n",
    "        img_path = './test_data/' + ix + '/' + str(cx) + '.jpg'\n",
    "        img = cv2.imread(img_path, 0)\n",
    "        img = img.reshape((50,50,1))\n",
    "        img = img/255.0\n",
    "        x.append(img)\n",
    "        y.append(dict_labels[ix])"
   ]
  },
  {
   "cell_type": "code",
   "execution_count": 35,
   "metadata": {},
   "outputs": [],
   "source": [
    "X_t = np.array(x)\n",
    "y_t = np.array(y)\n",
    "Y_t = np_utils.to_categorical(y_t)"
   ]
  },
  {
   "cell_type": "code",
   "execution_count": 36,
   "metadata": {},
   "outputs": [
    {
     "data": {
      "text/plain": [
       "(4800, 50, 50, 1)"
      ]
     },
     "execution_count": 36,
     "metadata": {},
     "output_type": "execute_result"
    }
   ],
   "source": [
    "X_t.shape"
   ]
  },
  {
   "cell_type": "code",
   "execution_count": 37,
   "metadata": {},
   "outputs": [],
   "source": [
    "y_pred = m.predict(X_t)"
   ]
  },
  {
   "cell_type": "code",
   "execution_count": 38,
   "metadata": {},
   "outputs": [],
   "source": [
    "from sklearn.metrics import accuracy_score"
   ]
  },
  {
   "cell_type": "code",
   "execution_count": 39,
   "metadata": {},
   "outputs": [
    {
     "data": {
      "text/plain": [
       "0.7985416666666667"
      ]
     },
     "execution_count": 39,
     "metadata": {},
     "output_type": "execute_result"
    }
   ],
   "source": [
    "accuracy_score(Y_t, y_pred.round())"
   ]
  },
  {
   "cell_type": "code",
   "execution_count": 40,
   "metadata": {},
   "outputs": [],
   "source": [
    "from sklearn.metrics import classification_report, confusion_matrix"
   ]
  },
  {
   "cell_type": "code",
   "execution_count": 41,
   "metadata": {},
   "outputs": [
    {
     "name": "stdout",
     "output_type": "stream",
     "text": [
      "             precision    recall  f1-score   support\n",
      "\n",
      "          0       0.00      0.00      0.00         0\n",
      "          1       1.00      0.99      1.00       202\n",
      "          2       0.99      0.88      0.93       226\n",
      "          3       0.91      1.00      0.95       181\n",
      "          4       0.94      0.68      0.79       275\n",
      "          5       1.00      0.69      0.82       290\n",
      "          6       0.79      0.71      0.75       223\n",
      "          7       0.61      0.46      0.52       265\n",
      "          8       0.28      0.56      0.38       102\n",
      "          9       0.94      0.99      0.97       191\n",
      "         10       0.80      0.92      0.85       172\n",
      "         11       0.83      1.00      0.91       167\n",
      "         12       0.84      0.54      0.66       311\n",
      "         13       0.96      0.58      0.72       333\n",
      "         14       1.00      1.00      1.00       201\n",
      "         15       1.00      0.90      0.95       223\n",
      "         16       0.89      0.84      0.86       211\n",
      "         17       0.51      0.89      0.65       113\n",
      "         18       0.10      0.95      0.18        21\n",
      "         19       0.04      1.00      0.07         7\n",
      "         20       1.00      1.00      1.00       200\n",
      "         21       1.00      0.83      0.90       242\n",
      "         22       0.77      0.94      0.85       162\n",
      "         23       1.00      0.74      0.85       269\n",
      "         24       0.96      0.99      0.98       195\n",
      "\n",
      "avg / total       0.89      0.80      0.83      4782\n",
      "\n"
     ]
    },
    {
     "name": "stderr",
     "output_type": "stream",
     "text": [
      "c:\\users\\asus\\appdata\\local\\programs\\python\\python36\\lib\\site-packages\\sklearn\\metrics\\classification.py:1135: UndefinedMetricWarning: Precision and F-score are ill-defined and being set to 0.0 in labels with no predicted samples.\n",
      "  'precision', 'predicted', average, warn_for)\n",
      "c:\\users\\asus\\appdata\\local\\programs\\python\\python36\\lib\\site-packages\\sklearn\\metrics\\classification.py:1137: UndefinedMetricWarning: Recall and F-score are ill-defined and being set to 0.0 in labels with no true samples.\n",
      "  'recall', 'true', average, warn_for)\n"
     ]
    }
   ],
   "source": [
    "print(classification_report(y_pred.round(), Y_t))"
   ]
  },
  {
   "cell_type": "code",
   "execution_count": null,
   "metadata": {},
   "outputs": [],
   "source": []
  }
 ],
 "metadata": {
  "kernelspec": {
   "display_name": "Python 3",
   "language": "python",
   "name": "python3"
  },
  "language_info": {
   "codemirror_mode": {
    "name": "ipython",
    "version": 3
   },
   "file_extension": ".py",
   "mimetype": "text/x-python",
   "name": "python",
   "nbconvert_exporter": "python",
   "pygments_lexer": "ipython3",
   "version": "3.6.5"
  }
 },
 "nbformat": 4,
 "nbformat_minor": 2
}
